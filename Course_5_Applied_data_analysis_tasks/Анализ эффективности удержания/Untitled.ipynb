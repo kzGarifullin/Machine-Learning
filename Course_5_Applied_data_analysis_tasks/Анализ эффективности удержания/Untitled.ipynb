{
 "cells": [
  {
   "cell_type": "code",
   "execution_count": 80,
   "metadata": {},
   "outputs": [],
   "source": [
    "import pandas as pd\n",
    "import numpy as np\n",
    "import scipy as sc\n",
    "from scipy import stats"
   ]
  },
  {
   "cell_type": "code",
   "execution_count": 3,
   "metadata": {},
   "outputs": [
    {
     "data": {
      "text/html": [
       "<div>\n",
       "<style scoped>\n",
       "    .dataframe tbody tr th:only-of-type {\n",
       "        vertical-align: middle;\n",
       "    }\n",
       "\n",
       "    .dataframe tbody tr th {\n",
       "        vertical-align: top;\n",
       "    }\n",
       "\n",
       "    .dataframe thead th {\n",
       "        text-align: right;\n",
       "    }\n",
       "</style>\n",
       "<table border=\"1\" class=\"dataframe\">\n",
       "  <thead>\n",
       "    <tr style=\"text-align: right;\">\n",
       "      <th></th>\n",
       "      <th>Unnamed: 0</th>\n",
       "      <th>state</th>\n",
       "      <th>account_length</th>\n",
       "      <th>area_code</th>\n",
       "      <th>intl_plan</th>\n",
       "      <th>vmail_plan</th>\n",
       "      <th>vmail_message</th>\n",
       "      <th>day_mins</th>\n",
       "      <th>day_calls</th>\n",
       "      <th>day_charge</th>\n",
       "      <th>...</th>\n",
       "      <th>night_mins</th>\n",
       "      <th>night_calls</th>\n",
       "      <th>night_charge</th>\n",
       "      <th>intl_mins</th>\n",
       "      <th>intl_calls</th>\n",
       "      <th>intl_charge</th>\n",
       "      <th>custserv_calls</th>\n",
       "      <th>treatment</th>\n",
       "      <th>mes_estim</th>\n",
       "      <th>churn</th>\n",
       "    </tr>\n",
       "  </thead>\n",
       "  <tbody>\n",
       "    <tr>\n",
       "      <th>0</th>\n",
       "      <td>0</td>\n",
       "      <td>KS</td>\n",
       "      <td>128</td>\n",
       "      <td>415</td>\n",
       "      <td>no</td>\n",
       "      <td>yes</td>\n",
       "      <td>25</td>\n",
       "      <td>265.1</td>\n",
       "      <td>110</td>\n",
       "      <td>45.07</td>\n",
       "      <td>...</td>\n",
       "      <td>244.7</td>\n",
       "      <td>91</td>\n",
       "      <td>11.01</td>\n",
       "      <td>10.0</td>\n",
       "      <td>3</td>\n",
       "      <td>2.70</td>\n",
       "      <td>1</td>\n",
       "      <td>1</td>\n",
       "      <td>0.65</td>\n",
       "      <td>False.</td>\n",
       "    </tr>\n",
       "    <tr>\n",
       "      <th>1</th>\n",
       "      <td>1</td>\n",
       "      <td>OH</td>\n",
       "      <td>107</td>\n",
       "      <td>415</td>\n",
       "      <td>no</td>\n",
       "      <td>yes</td>\n",
       "      <td>26</td>\n",
       "      <td>161.6</td>\n",
       "      <td>123</td>\n",
       "      <td>27.47</td>\n",
       "      <td>...</td>\n",
       "      <td>254.4</td>\n",
       "      <td>103</td>\n",
       "      <td>11.45</td>\n",
       "      <td>13.7</td>\n",
       "      <td>3</td>\n",
       "      <td>3.70</td>\n",
       "      <td>1</td>\n",
       "      <td>0</td>\n",
       "      <td>0.55</td>\n",
       "      <td>False.</td>\n",
       "    </tr>\n",
       "    <tr>\n",
       "      <th>2</th>\n",
       "      <td>2</td>\n",
       "      <td>NJ</td>\n",
       "      <td>137</td>\n",
       "      <td>415</td>\n",
       "      <td>no</td>\n",
       "      <td>no</td>\n",
       "      <td>0</td>\n",
       "      <td>243.4</td>\n",
       "      <td>114</td>\n",
       "      <td>41.38</td>\n",
       "      <td>...</td>\n",
       "      <td>162.6</td>\n",
       "      <td>104</td>\n",
       "      <td>7.32</td>\n",
       "      <td>12.2</td>\n",
       "      <td>5</td>\n",
       "      <td>3.29</td>\n",
       "      <td>0</td>\n",
       "      <td>0</td>\n",
       "      <td>0.72</td>\n",
       "      <td>False.</td>\n",
       "    </tr>\n",
       "    <tr>\n",
       "      <th>3</th>\n",
       "      <td>3</td>\n",
       "      <td>OH</td>\n",
       "      <td>84</td>\n",
       "      <td>408</td>\n",
       "      <td>yes</td>\n",
       "      <td>no</td>\n",
       "      <td>0</td>\n",
       "      <td>299.4</td>\n",
       "      <td>71</td>\n",
       "      <td>50.90</td>\n",
       "      <td>...</td>\n",
       "      <td>196.9</td>\n",
       "      <td>89</td>\n",
       "      <td>8.86</td>\n",
       "      <td>6.6</td>\n",
       "      <td>7</td>\n",
       "      <td>1.78</td>\n",
       "      <td>2</td>\n",
       "      <td>1</td>\n",
       "      <td>0.28</td>\n",
       "      <td>False.</td>\n",
       "    </tr>\n",
       "    <tr>\n",
       "      <th>4</th>\n",
       "      <td>4</td>\n",
       "      <td>OK</td>\n",
       "      <td>75</td>\n",
       "      <td>415</td>\n",
       "      <td>yes</td>\n",
       "      <td>no</td>\n",
       "      <td>0</td>\n",
       "      <td>166.7</td>\n",
       "      <td>113</td>\n",
       "      <td>28.34</td>\n",
       "      <td>...</td>\n",
       "      <td>186.9</td>\n",
       "      <td>121</td>\n",
       "      <td>8.41</td>\n",
       "      <td>10.1</td>\n",
       "      <td>3</td>\n",
       "      <td>2.73</td>\n",
       "      <td>3</td>\n",
       "      <td>2</td>\n",
       "      <td>0.45</td>\n",
       "      <td>False.</td>\n",
       "    </tr>\n",
       "  </tbody>\n",
       "</table>\n",
       "<p>5 rows × 23 columns</p>\n",
       "</div>"
      ],
      "text/plain": [
       "   Unnamed: 0 state  account_length  area_code intl_plan vmail_plan  \\\n",
       "0           0    KS             128        415        no        yes   \n",
       "1           1    OH             107        415        no        yes   \n",
       "2           2    NJ             137        415        no         no   \n",
       "3           3    OH              84        408       yes         no   \n",
       "4           4    OK              75        415       yes         no   \n",
       "\n",
       "   vmail_message  day_mins  day_calls  day_charge  ...  night_mins  \\\n",
       "0             25     265.1        110       45.07  ...       244.7   \n",
       "1             26     161.6        123       27.47  ...       254.4   \n",
       "2              0     243.4        114       41.38  ...       162.6   \n",
       "3              0     299.4         71       50.90  ...       196.9   \n",
       "4              0     166.7        113       28.34  ...       186.9   \n",
       "\n",
       "   night_calls  night_charge  intl_mins  intl_calls  intl_charge  \\\n",
       "0           91         11.01       10.0           3         2.70   \n",
       "1          103         11.45       13.7           3         3.70   \n",
       "2          104          7.32       12.2           5         3.29   \n",
       "3           89          8.86        6.6           7         1.78   \n",
       "4          121          8.41       10.1           3         2.73   \n",
       "\n",
       "   custserv_calls  treatment  mes_estim   churn  \n",
       "0               1          1       0.65  False.  \n",
       "1               1          0       0.55  False.  \n",
       "2               0          0       0.72  False.  \n",
       "3               2          1       0.28  False.  \n",
       "4               3          2       0.45  False.  \n",
       "\n",
       "[5 rows x 23 columns]"
      ]
     },
     "execution_count": 3,
     "metadata": {},
     "output_type": "execute_result"
    }
   ],
   "source": [
    "data = pd.read_csv(\"churn_analysis.csv\", sep=\",\", index_col=False) \n",
    "data.head()"
   ]
  },
  {
   "cell_type": "code",
   "execution_count": 5,
   "metadata": {},
   "outputs": [],
   "source": [
    "data1=data[data.treatment==1]"
   ]
  },
  {
   "cell_type": "code",
   "execution_count": 11,
   "metadata": {},
   "outputs": [
    {
     "data": {
      "text/plain": [
       "2550"
      ]
     },
     "execution_count": 11,
     "metadata": {},
     "output_type": "execute_result"
    }
   ],
   "source": [
    "50*51"
   ]
  },
  {
   "cell_type": "code",
   "execution_count": 12,
   "metadata": {},
   "outputs": [
    {
     "data": {
      "text/plain": [
       "1275.0"
      ]
     },
     "execution_count": 12,
     "metadata": {},
     "output_type": "execute_result"
    }
   ],
   "source": [
    "2550/2"
   ]
  },
  {
   "cell_type": "code",
   "execution_count": 29,
   "metadata": {},
   "outputs": [],
   "source": [
    "name=data['state'].unique()"
   ]
  },
  {
   "cell_type": "code",
   "execution_count": 71,
   "metadata": {},
   "outputs": [],
   "source": [
    "h=data1[data1.state==name[1]].churn.value_counts()"
   ]
  },
  {
   "cell_type": "code",
   "execution_count": 72,
   "metadata": {},
   "outputs": [
    {
     "data": {
      "text/plain": [
       "False.    22\n",
       "True.      2\n",
       "Name: churn, dtype: int64"
      ]
     },
     "execution_count": 72,
     "metadata": {},
     "output_type": "execute_result"
    }
   ],
   "source": [
    "h"
   ]
  },
  {
   "cell_type": "code",
   "execution_count": 75,
   "metadata": {},
   "outputs": [],
   "source": [
    "a=data1[data1.state==name[0]].churn\n",
    "b=data1[data1.state==name[1]].churn\n",
    "\n",
    "a=np.array(a)\n",
    "b=np.array(b)\n",
    "c2=c1=0\n",
    "for i in range(len(a)):\n",
    "    if a[i]==\"True.\":\n",
    "        c1+=1\n",
    "    else:\n",
    "        c2+=1\n",
    "c3=c4=0\n",
    "for i in range(len(b)):\n",
    "    if b[i]==\"True.\":\n",
    "        c3+=1\n",
    "    else:\n",
    "        c4+=1\n",
    "table = pd.DataFrame({name[0]:[c2,c1],name[1]:[c4,c3]})"
   ]
  },
  {
   "cell_type": "code",
   "execution_count": 76,
   "metadata": {},
   "outputs": [
    {
     "data": {
      "text/html": [
       "<div>\n",
       "<style scoped>\n",
       "    .dataframe tbody tr th:only-of-type {\n",
       "        vertical-align: middle;\n",
       "    }\n",
       "\n",
       "    .dataframe tbody tr th {\n",
       "        vertical-align: top;\n",
       "    }\n",
       "\n",
       "    .dataframe thead th {\n",
       "        text-align: right;\n",
       "    }\n",
       "</style>\n",
       "<table border=\"1\" class=\"dataframe\">\n",
       "  <thead>\n",
       "    <tr style=\"text-align: right;\">\n",
       "      <th></th>\n",
       "      <th>KS</th>\n",
       "      <th>OH</th>\n",
       "    </tr>\n",
       "  </thead>\n",
       "  <tbody>\n",
       "    <tr>\n",
       "      <th>0</th>\n",
       "      <td>18</td>\n",
       "      <td>22</td>\n",
       "    </tr>\n",
       "    <tr>\n",
       "      <th>1</th>\n",
       "      <td>7</td>\n",
       "      <td>2</td>\n",
       "    </tr>\n",
       "  </tbody>\n",
       "</table>\n",
       "</div>"
      ],
      "text/plain": [
       "   KS  OH\n",
       "0  18  22\n",
       "1   7   2"
      ]
     },
     "execution_count": 76,
     "metadata": {},
     "output_type": "execute_result"
    }
   ],
   "source": [
    "table"
   ]
  },
  {
   "cell_type": "code",
   "execution_count": 52,
   "metadata": {},
   "outputs": [
    {
     "data": {
      "text/plain": [
       "False.    18\n",
       "True.      7\n",
       "Name: churn, dtype: int64"
      ]
     },
     "execution_count": 52,
     "metadata": {},
     "output_type": "execute_result"
    }
   ],
   "source": [
    "a"
   ]
  },
  {
   "cell_type": "code",
   "execution_count": 99,
   "metadata": {},
   "outputs": [],
   "source": [
    "c=0\n",
    "d=0\n",
    "p1=list()\n",
    "p2=list()\n",
    "for i in range(len(name)):\n",
    "    j=i+1\n",
    "    while(j<len(name)):\n",
    "        \n",
    "        a=data1[data1.state==name[i]].churn\n",
    "        b=data1[data1.state==name[j]].churn\n",
    "        a=np.array(a)\n",
    "        b=np.array(b)\n",
    "        c2=c1=0\n",
    "        for o in range(len(a)):\n",
    "            if a[o]==\"True.\":\n",
    "                c1+=1\n",
    "            else:\n",
    "                c2+=1\n",
    "        c3=c4=0\n",
    "        for w in range(len(b)):\n",
    "            if b[w]==\"True.\":\n",
    "                c3+=1\n",
    "            else:\n",
    "                c4+=1\n",
    "        table = pd.DataFrame({name[i]:[c2,c1],name[j]:[c4,c3]})\n",
    "        a,p,k,f=stats.chi2_contingency(table,correction=False)\n",
    "        a,z,k,f=stats.chi2_contingency(table,correction=True)\n",
    "        p1.append(p)\n",
    "        p2.append(z)\n",
    "        if p<0.05:\n",
    "            c+=1\n",
    "        if z<0.05:\n",
    "            d+=1\n",
    "        j=j+1\n",
    "\n",
    "        "
   ]
  },
  {
   "cell_type": "code",
   "execution_count": 95,
   "metadata": {},
   "outputs": [
    {
     "data": {
      "text/plain": [
       "34"
      ]
     },
     "execution_count": 95,
     "metadata": {},
     "output_type": "execute_result"
    }
   ],
   "source": [
    "c"
   ]
  },
  {
   "cell_type": "code",
   "execution_count": 100,
   "metadata": {},
   "outputs": [
    {
     "data": {
      "text/plain": [
       "0"
      ]
     },
     "execution_count": 100,
     "metadata": {},
     "output_type": "execute_result"
    }
   ],
   "source": [
    "d"
   ]
  },
  {
   "cell_type": "code",
   "execution_count": 97,
   "metadata": {},
   "outputs": [
    {
     "data": {
      "text/plain": [
       "0.5018273798739158"
      ]
     },
     "execution_count": 97,
     "metadata": {},
     "output_type": "execute_result"
    }
   ],
   "source": [
    "p1=np.array(p1)\n",
    "p1.mean()"
   ]
  },
  {
   "cell_type": "code",
   "execution_count": 98,
   "metadata": {},
   "outputs": [
    {
     "data": {
      "text/plain": [
       "0.6640566382051046"
      ]
     },
     "execution_count": 98,
     "metadata": {},
     "output_type": "execute_result"
    }
   ],
   "source": [
    "p2=np.array(p2)\n",
    "p2.mean()"
   ]
  },
  {
   "cell_type": "code",
   "execution_count": null,
   "metadata": {},
   "outputs": [],
   "source": [
    "scipy.stats.fisher_exact"
   ]
  },
  {
   "cell_type": "code",
   "execution_count": 102,
   "metadata": {},
   "outputs": [],
   "source": [
    "c=0\n",
    "d=0\n",
    "p1=list()\n",
    "p2=list()\n",
    "for i in range(len(name)):\n",
    "    j=i+1\n",
    "    while(j<len(name)):\n",
    "        \n",
    "        a=data1[data1.state==name[i]].churn\n",
    "        b=data1[data1.state==name[j]].churn\n",
    "        a=np.array(a)\n",
    "        b=np.array(b)\n",
    "        c2=c1=0\n",
    "        for o in range(len(a)):\n",
    "            if a[o]==\"True.\":\n",
    "                c1+=1\n",
    "            else:\n",
    "                c2+=1\n",
    "        c3=c4=0\n",
    "        for w in range(len(b)):\n",
    "            if b[w]==\"True.\":\n",
    "                c3+=1\n",
    "            else:\n",
    "                c4+=1\n",
    "        table = pd.DataFrame({name[i]:[c2,c1],name[j]:[c4,c3]})\n",
    "        l,p=stats.fisher_exact(table)\n",
    "        \n",
    "        p1.append(p)\n",
    "       \n",
    "        if p<0.05:\n",
    "            c+=1\n",
    "        \n",
    "        j=j+1\n",
    "\n",
    "        "
   ]
  },
  {
   "cell_type": "code",
   "execution_count": 103,
   "metadata": {},
   "outputs": [
    {
     "data": {
      "text/plain": [
       "10"
      ]
     },
     "execution_count": 103,
     "metadata": {},
     "output_type": "execute_result"
    }
   ],
   "source": [
    "c"
   ]
  },
  {
   "cell_type": "code",
   "execution_count": 104,
   "metadata": {},
   "outputs": [
    {
     "data": {
      "text/plain": [
       "0.6483383060020681"
      ]
     },
     "execution_count": 104,
     "metadata": {},
     "output_type": "execute_result"
    }
   ],
   "source": [
    "p1=np.array(p1)\n",
    "p1.mean()"
   ]
  },
  {
   "cell_type": "code",
   "execution_count": 105,
   "metadata": {},
   "outputs": [],
   "source": [
    "a=data['day_calls']"
   ]
  },
  {
   "cell_type": "code",
   "execution_count": 107,
   "metadata": {},
   "outputs": [],
   "source": [
    "b=data['mes_estim']"
   ]
  },
  {
   "cell_type": "code",
   "execution_count": 110,
   "metadata": {},
   "outputs": [
    {
     "data": {
      "text/plain": [
       "array([[ 1.        , -0.05179435],\n",
       "       [-0.05179435,  1.        ]])"
      ]
     },
     "execution_count": 110,
     "metadata": {},
     "output_type": "execute_result"
    }
   ],
   "source": [
    "np.corrcoef(a, b)"
   ]
  },
  {
   "cell_type": "code",
   "execution_count": 111,
   "metadata": {},
   "outputs": [
    {
     "data": {
      "text/plain": [
       "(-0.05179435058757295, 0.002779883686972572)"
      ]
     },
     "execution_count": 111,
     "metadata": {},
     "output_type": "execute_result"
    }
   ],
   "source": [
    "pearson=stats.stats.pearsonr(data['day_calls'],data['mes_estim'])\n",
    "pearson"
   ]
  },
  {
   "cell_type": "code",
   "execution_count": 112,
   "metadata": {},
   "outputs": [
    {
     "data": {
      "text/plain": [
       "SpearmanrResult(correlation=0.043349880533927444, pvalue=0.012317367189170541)"
      ]
     },
     "execution_count": 112,
     "metadata": {},
     "output_type": "execute_result"
    }
   ],
   "source": [
    "\n",
    "spearmanr=stats.stats.spearmanr(data['day_calls'],data['mes_estim'])\n",
    "spearmanr"
   ]
  },
  {
   "cell_type": "code",
   "execution_count": 118,
   "metadata": {},
   "outputs": [],
   "source": [
    "table = pd.DataFrame()\n",
    "for i in range(len(name)):\n",
    "    \n",
    "    a=data1[data1.state==name[i]].churn\n",
    "        \n",
    "    a=np.array(a)\n",
    "        \n",
    "    c2=c1=0\n",
    "    for o in range(len(a)):\n",
    "        if a[o]==\"True.\":\n",
    "            c1+=1\n",
    "        else:\n",
    "            c2+=1\n",
    "      \n",
    "    \n",
    "    table[name[i]]=[c2,c1]\n",
    "        \n",
    "    \n"
   ]
  },
  {
   "cell_type": "code",
   "execution_count": 119,
   "metadata": {},
   "outputs": [
    {
     "data": {
      "text/html": [
       "<div>\n",
       "<style scoped>\n",
       "    .dataframe tbody tr th:only-of-type {\n",
       "        vertical-align: middle;\n",
       "    }\n",
       "\n",
       "    .dataframe tbody tr th {\n",
       "        vertical-align: top;\n",
       "    }\n",
       "\n",
       "    .dataframe thead th {\n",
       "        text-align: right;\n",
       "    }\n",
       "</style>\n",
       "<table border=\"1\" class=\"dataframe\">\n",
       "  <thead>\n",
       "    <tr style=\"text-align: right;\">\n",
       "      <th></th>\n",
       "      <th>KS</th>\n",
       "      <th>OH</th>\n",
       "      <th>NJ</th>\n",
       "      <th>OK</th>\n",
       "      <th>AL</th>\n",
       "      <th>MA</th>\n",
       "      <th>MO</th>\n",
       "      <th>LA</th>\n",
       "      <th>WV</th>\n",
       "      <th>IN</th>\n",
       "      <th>...</th>\n",
       "      <th>NM</th>\n",
       "      <th>NV</th>\n",
       "      <th>DC</th>\n",
       "      <th>KY</th>\n",
       "      <th>ME</th>\n",
       "      <th>MS</th>\n",
       "      <th>TN</th>\n",
       "      <th>PA</th>\n",
       "      <th>CT</th>\n",
       "      <th>ND</th>\n",
       "    </tr>\n",
       "  </thead>\n",
       "  <tbody>\n",
       "    <tr>\n",
       "      <th>0</th>\n",
       "      <td>18</td>\n",
       "      <td>22</td>\n",
       "      <td>20</td>\n",
       "      <td>11</td>\n",
       "      <td>25</td>\n",
       "      <td>17</td>\n",
       "      <td>17</td>\n",
       "      <td>15</td>\n",
       "      <td>27</td>\n",
       "      <td>20</td>\n",
       "      <td>...</td>\n",
       "      <td>27</td>\n",
       "      <td>18</td>\n",
       "      <td>18</td>\n",
       "      <td>21</td>\n",
       "      <td>20</td>\n",
       "      <td>20</td>\n",
       "      <td>11</td>\n",
       "      <td>14</td>\n",
       "      <td>25</td>\n",
       "      <td>21</td>\n",
       "    </tr>\n",
       "    <tr>\n",
       "      <th>1</th>\n",
       "      <td>7</td>\n",
       "      <td>2</td>\n",
       "      <td>4</td>\n",
       "      <td>2</td>\n",
       "      <td>5</td>\n",
       "      <td>7</td>\n",
       "      <td>4</td>\n",
       "      <td>0</td>\n",
       "      <td>5</td>\n",
       "      <td>3</td>\n",
       "      <td>...</td>\n",
       "      <td>2</td>\n",
       "      <td>6</td>\n",
       "      <td>1</td>\n",
       "      <td>4</td>\n",
       "      <td>8</td>\n",
       "      <td>4</td>\n",
       "      <td>1</td>\n",
       "      <td>4</td>\n",
       "      <td>5</td>\n",
       "      <td>3</td>\n",
       "    </tr>\n",
       "  </tbody>\n",
       "</table>\n",
       "<p>2 rows × 51 columns</p>\n",
       "</div>"
      ],
      "text/plain": [
       "   KS  OH  NJ  OK  AL  MA  MO  LA  WV  IN  ...  NM  NV  DC  KY  ME  MS  TN  \\\n",
       "0  18  22  20  11  25  17  17  15  27  20  ...  27  18  18  21  20  20  11   \n",
       "1   7   2   4   2   5   7   4   0   5   3  ...   2   6   1   4   8   4   1   \n",
       "\n",
       "   PA  CT  ND  \n",
       "0  14  25  21  \n",
       "1   4   5   3  \n",
       "\n",
       "[2 rows x 51 columns]"
      ]
     },
     "execution_count": 119,
     "metadata": {},
     "output_type": "execute_result"
    }
   ],
   "source": [
    "table"
   ]
  },
  {
   "cell_type": "code",
   "execution_count": 120,
   "metadata": {},
   "outputs": [
    {
     "data": {
      "text/plain": [
       "(44.05271236692549,\n",
       " 0.709759004277847,\n",
       " 50,\n",
       " array([[20.89790337, 20.06198724, 20.06198724, 10.86690975, 25.07748405,\n",
       "         20.06198724, 17.55423883, 12.53874202, 26.74931632, 19.2260711 ,\n",
       "         18.39015497, 12.53874202, 21.73381951, 27.58523245, 15.04649043,\n",
       "         19.2260711 , 19.2260711 , 16.7183227 , 16.7183227 , 18.39015497,\n",
       "         15.88240656, 17.55423883, 20.06198724, 18.39015497, 10.86690975,\n",
       "         10.03099362, 10.03099362, 17.55423883, 16.7183227 , 20.06198724,\n",
       "         13.37465816, 20.06198724, 17.55423883, 18.39015497, 14.21057429,\n",
       "         18.39015497, 12.53874202, 17.55423883, 19.2260711 , 15.88240656,\n",
       "         19.2260711 , 24.24156791, 20.06198724, 15.88240656, 20.89790337,\n",
       "         23.40565178, 20.06198724, 10.03099362, 15.04649043, 25.07748405,\n",
       "         20.06198724],\n",
       "        [ 4.10209663,  3.93801276,  3.93801276,  2.13309025,  4.92251595,\n",
       "          3.93801276,  3.44576117,  2.46125798,  5.25068368,  3.7739289 ,\n",
       "          3.60984503,  2.46125798,  4.26618049,  5.41476755,  2.95350957,\n",
       "          3.7739289 ,  3.7739289 ,  3.2816773 ,  3.2816773 ,  3.60984503,\n",
       "          3.11759344,  3.44576117,  3.93801276,  3.60984503,  2.13309025,\n",
       "          1.96900638,  1.96900638,  3.44576117,  3.2816773 ,  3.93801276,\n",
       "          2.62534184,  3.93801276,  3.44576117,  3.60984503,  2.78942571,\n",
       "          3.60984503,  2.46125798,  3.44576117,  3.7739289 ,  3.11759344,\n",
       "          3.7739289 ,  4.75843209,  3.93801276,  3.11759344,  4.10209663,\n",
       "          4.59434822,  3.93801276,  1.96900638,  2.95350957,  4.92251595,\n",
       "          3.93801276]]))"
      ]
     },
     "execution_count": 120,
     "metadata": {},
     "output_type": "execute_result"
    }
   ],
   "source": [
    "sc.stats.chi2_contingency(table)\n"
   ]
  },
  {
   "cell_type": "code",
   "execution_count": 126,
   "metadata": {},
   "outputs": [],
   "source": [
    "kr=(44.05271236692549/(1097*(2-1)))**0.5"
   ]
  },
  {
   "cell_type": "code",
   "execution_count": 127,
   "metadata": {},
   "outputs": [
    {
     "data": {
      "text/plain": [
       "0.2003932150203332"
      ]
     },
     "execution_count": 127,
     "metadata": {},
     "output_type": "execute_result"
    }
   ],
   "source": [
    "kr"
   ]
  },
  {
   "cell_type": "code",
   "execution_count": 128,
   "metadata": {},
   "outputs": [],
   "source": [
    "data0=data[data.treatment==0].churn.map(lambda x: 1 if x=='False.' else 0)"
   ]
  },
  {
   "cell_type": "code",
   "execution_count": 129,
   "metadata": {},
   "outputs": [
    {
     "data": {
      "text/plain": [
       "1       1\n",
       "2       1\n",
       "6       1\n",
       "7       1\n",
       "11      1\n",
       "       ..\n",
       "3321    1\n",
       "3324    1\n",
       "3326    1\n",
       "3327    1\n",
       "3332    1\n",
       "Name: churn, Length: 1133, dtype: int64"
      ]
     },
     "execution_count": 129,
     "metadata": {},
     "output_type": "execute_result"
    }
   ],
   "source": [
    "data0"
   ]
  },
  {
   "cell_type": "code",
   "execution_count": null,
   "metadata": {},
   "outputs": [],
   "source": []
  }
 ],
 "metadata": {
  "kernelspec": {
   "display_name": "Python 3",
   "language": "python",
   "name": "python3"
  },
  "language_info": {
   "codemirror_mode": {
    "name": "ipython",
    "version": 3
   },
   "file_extension": ".py",
   "mimetype": "text/x-python",
   "name": "python",
   "nbconvert_exporter": "python",
   "pygments_lexer": "ipython3",
   "version": "3.8.3"
  }
 },
 "nbformat": 4,
 "nbformat_minor": 4
}
