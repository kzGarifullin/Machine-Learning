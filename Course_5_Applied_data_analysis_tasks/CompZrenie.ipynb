{
 "cells": [
  {
   "cell_type": "code",
   "execution_count": 2,
   "metadata": {},
   "outputs": [],
   "source": [
    "import numpy as np\n",
    "import cv2\n",
    "\n"
   ]
  },
  {
   "cell_type": "code",
   "execution_count": 30,
   "metadata": {},
   "outputs": [],
   "source": [
    "img1 = cv2.imread('lenna.jpg')\n",
    "img = cv2.imread('img.jpg')\n"
   ]
  },
  {
   "cell_type": "code",
   "execution_count": 4,
   "metadata": {},
   "outputs": [
    {
     "name": "stdout",
     "output_type": "stream",
     "text": [
      "[[[ 59 103 157]\n",
      "  [ 60 104 158]\n",
      "  [ 61 105 159]\n",
      "  ...\n",
      "  [  8  32  56]\n",
      "  [  5  28  54]\n",
      "  [  8  31  57]]\n",
      "\n",
      " [[ 59 103 157]\n",
      "  [ 60 104 158]\n",
      "  [ 61 105 159]\n",
      "  ...\n",
      "  [  8  32  56]\n",
      "  [  4  27  53]\n",
      "  [  7  30  56]]\n",
      "\n",
      " [[ 60 104 158]\n",
      "  [ 61 105 159]\n",
      "  [ 61 105 159]\n",
      "  ...\n",
      "  [  9  33  57]\n",
      "  [  7  30  56]\n",
      "  [ 10  33  59]]\n",
      "\n",
      " ...\n",
      "\n",
      " [[  9  31  56]\n",
      "  [  8  30  55]\n",
      "  [  8  30  55]\n",
      "  ...\n",
      "  [ 47  74 118]\n",
      "  [ 45  72 116]\n",
      "  [ 44  71 115]]\n",
      "\n",
      " [[  9  32  58]\n",
      "  [  7  31  55]\n",
      "  [  8  30  55]\n",
      "  ...\n",
      "  [ 47  74 118]\n",
      "  [ 46  73 117]\n",
      "  [ 46  73 117]]\n",
      "\n",
      " [[ 13  36  62]\n",
      "  [  9  32  58]\n",
      "  [  8  30  55]\n",
      "  ...\n",
      "  [ 45  72 116]\n",
      "  [ 47  74 118]\n",
      "  [ 49  76 120]]]\n"
     ]
    }
   ],
   "source": [
    "print(img1)"
   ]
  },
  {
   "cell_type": "code",
   "execution_count": 25,
   "metadata": {},
   "outputs": [],
   "source": [
    "\n",
    "kernel = np.array([[1,0,-1],[1,0,-1],[1,0,-1]],np.float32) / 9\n",
    "dst = cv2.filter2D(img1,-1,kernel)"
   ]
  },
  {
   "cell_type": "code",
   "execution_count": 26,
   "metadata": {},
   "outputs": [
    {
     "data": {
      "text/plain": [
       "-1"
      ]
     },
     "execution_count": 26,
     "metadata": {},
     "output_type": "execute_result"
    }
   ],
   "source": [
    "#Отображение файла встроенными средствами OpenCV. \n",
    "cv2.imshow(\"Original image\", dst) #\n",
    "cv2.waitKey(0) # Ждем нажатия любой клавиши"
   ]
  },
  {
   "cell_type": "code",
   "execution_count": 8,
   "metadata": {},
   "outputs": [
    {
     "name": "stdout",
     "output_type": "stream",
     "text": [
      "j\n"
     ]
    }
   ],
   "source": [
    "print('j')"
   ]
  },
  {
   "cell_type": "code",
   "execution_count": 35,
   "metadata": {},
   "outputs": [],
   "source": [
    "equ = cv2.equalizeHist(img)\n"
   ]
  },
  {
   "cell_type": "code",
   "execution_count": 37,
   "metadata": {},
   "outputs": [
    {
     "ename": "AttributeError",
     "evalue": "module 'cv2.cv2' has no attribute 'generate_histogram'",
     "output_type": "error",
     "traceback": [
      "\u001b[1;31m---------------------------------------------------------------------------\u001b[0m",
      "\u001b[1;31mAttributeError\u001b[0m                            Traceback (most recent call last)",
      "\u001b[1;32m<ipython-input-37-1bbb3e96400c>\u001b[0m in \u001b[0;36m<module>\u001b[1;34m\u001b[0m\n\u001b[1;32m----> 1\u001b[1;33m \u001b[0mcv2\u001b[0m\u001b[1;33m.\u001b[0m\u001b[0mgenerate_histogram\u001b[0m\u001b[1;33m(\u001b[0m\u001b[0mimg\u001b[0m\u001b[1;33m)\u001b[0m\u001b[1;33m\u001b[0m\u001b[1;33m\u001b[0m\u001b[0m\n\u001b[0m",
      "\u001b[1;31mAttributeError\u001b[0m: module 'cv2.cv2' has no attribute 'generate_histogram'"
     ]
    }
   ],
   "source": [
    "cv2.generate_histogram(img)"
   ]
  },
  {
   "cell_type": "code",
   "execution_count": null,
   "metadata": {},
   "outputs": [],
   "source": []
  }
 ],
 "metadata": {
  "kernelspec": {
   "display_name": "Python 3",
   "language": "python",
   "name": "python3"
  },
  "language_info": {
   "codemirror_mode": {
    "name": "ipython",
    "version": 3
   },
   "file_extension": ".py",
   "mimetype": "text/x-python",
   "name": "python",
   "nbconvert_exporter": "python",
   "pygments_lexer": "ipython3",
   "version": "3.8.3"
  }
 },
 "nbformat": 4,
 "nbformat_minor": 4
}
