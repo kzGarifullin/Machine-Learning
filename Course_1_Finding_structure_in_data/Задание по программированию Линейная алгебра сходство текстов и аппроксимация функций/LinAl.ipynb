{
 "cells": [
  {
   "cell_type": "code",
   "execution_count": 4,
   "metadata": {},
   "outputs": [],
   "source": [
    "from scipy.spatial import distance\n",
    "import re\n",
    "dict_index={}\n",
    "arr=list()\n",
    "n=0\n",
    "\n",
    "new_words=0\n",
    "file_obj = open('sentences.txt')\n",
    "for line in file_obj:\n",
    "    s=line.lower()\n",
    "    s=re.split('[^a-z]', s)\n",
    "    n+=1\n",
    "    for word in s:\n",
    "        if word!='' and word not in dict_index:\n",
    "            dict_index[word]=new_words\n",
    "            new_words+=1\n",
    "file_obj.close()\n",
    "file_obj = open('sentences.txt')\n",
    "k=-1\n",
    "cos=list()\n",
    "for line in file_obj:\n",
    "    s=line.lower()\n",
    "    k+=1\n",
    "    s=re.split('[^a-z]', s)\n",
    "    in_s=[0]*new_words\n",
    "    for word in s:\n",
    "        if word!='':\n",
    "            index=dict_index[word]\n",
    "            in_s[index]+=1\n",
    "    arr.append(in_s)\n",
    "    acos=distance.cosine(arr[0], arr[k])\n",
    "    cos.append(acos)\n",
    "cos_sort=sorted(cos)\n",
    "\n",
    "for i in range(len(cos)):\n",
    "    if cos[i] == cos_sort[1]:\n",
    "        ans1=i\n",
    "    if cos[i] == cos_sort[2]:\n",
    "        ans2=i\n",
    "\n",
    "file_obj = open('submission-1.txt', 'w')\n",
    "string = str(ans2)+' '+str(ans1)\n",
    "file_obj.write(string)\n",
    "file_obj.close()\n"
   ]
  },
  {
   "cell_type": "code",
   "execution_count": null,
   "metadata": {},
   "outputs": [],
   "source": []
  }
 ],
 "metadata": {
  "kernelspec": {
   "display_name": "Python 2",
   "language": "python",
   "name": "python2"
  },
  "language_info": {
   "codemirror_mode": {
    "name": "ipython",
    "version": 2
   },
   "file_extension": ".py",
   "mimetype": "text/x-python",
   "name": "python",
   "nbconvert_exporter": "python",
   "pygments_lexer": "ipython2",
   "version": "2.7.16"
  }
 },
 "nbformat": 4,
 "nbformat_minor": 2
}
